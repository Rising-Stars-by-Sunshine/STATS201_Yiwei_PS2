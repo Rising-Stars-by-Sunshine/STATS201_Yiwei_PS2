{
 "cells": [
  {
   "cell_type": "code",
   "execution_count": 1,
   "metadata": {},
   "outputs": [],
   "source": [
    "import pandas as pd"
   ]
  },
  {
   "cell_type": "code",
   "execution_count": 3,
   "metadata": {},
   "outputs": [
    {
     "name": "stdout",
     "output_type": "stream",
     "text": [
      "27481\n"
     ]
    }
   ],
   "source": [
    "df = pd.read_csv(\"Tweets.csv\", engine='python',sep = None)\n",
    "df.head()\n",
    "print(len(df.text))"
   ]
  },
  {
   "cell_type": "code",
   "execution_count": 8,
   "metadata": {},
   "outputs": [
    {
     "data": {
      "text/plain": [
       "{'instruction': 'Detect the influence of price.',\n",
       " 'input': ' I`d have responded, if I were going',\n",
       " 'output': 'The sentiment is neutral. Because of it contains I`d have responded, if I were going'}"
      ]
     },
     "execution_count": 8,
     "metadata": {},
     "output_type": "execute_result"
    }
   ],
   "source": [
    "dataset_data=[]\n",
    "temp1=len(df.text)\n",
    "for i in range(0,temp1):\n",
    "    temp2=\"The sentiment is \"\n",
    "    temp2+=df.sentiment[i]\n",
    "    temp2+=\". Because of it contains \"\n",
    "    temp2+=str(df.selected_text[i])\n",
    "    dataset_data.append({\"instruction\": \"Detect the influence of price.\",\n",
    "        \"input\": df.text[i],\n",
    "        \"output\": temp2})\n",
    "dataset_data[0]"
   ]
  },
  {
   "cell_type": "code",
   "execution_count": 9,
   "metadata": {},
   "outputs": [],
   "source": [
    "import json\n",
    "with open(\"dataset.json\", \"w\") as f:\n",
    "   json.dump(dataset_data, f)"
   ]
  }
 ],
 "metadata": {
  "kernelspec": {
   "display_name": "Python 3",
   "language": "python",
   "name": "python3"
  },
  "language_info": {
   "codemirror_mode": {
    "name": "ipython",
    "version": 3
   },
   "file_extension": ".py",
   "mimetype": "text/x-python",
   "name": "python",
   "nbconvert_exporter": "python",
   "pygments_lexer": "ipython3",
   "version": "3.11.6"
  }
 },
 "nbformat": 4,
 "nbformat_minor": 2
}
