{
 "cells": [
  {
   "cell_type": "code",
   "execution_count": null,
   "metadata": {},
   "outputs": [
    {
     "name": "stdout",
     "output_type": "stream",
     "text": [
      "Requirement already satisfied: pip in c:\\users\\76640\\appdata\\local\\programs\\python\\python310\\lib\\site-packages (23.3.1)\n",
      "Collecting accelerate==0.18.0"
     ]
    },
    {
     "name": "stderr",
     "output_type": "stream",
     "text": [
      "ERROR: pip's dependency resolver does not currently take into account all the packages that are installed. This behaviour is the source of the following dependency conflicts."
     ]
    },
    {
     "name": "stdout",
     "output_type": "stream",
     "text": [
      "\n"
     ]
    },
    {
     "name": "stderr",
     "output_type": "stream",
     "text": [
      "\n",
      "peft 0.6.3.dev0 requires accelerate>=0.21.0, but you have accelerate 0.18.0 which is incompatible."
     ]
    },
    {
     "name": "stdout",
     "output_type": "stream",
     "text": [
      "  Using cached accelerate-0.18.0-py3-none-any.whl (215 kB)"
     ]
    },
    {
     "name": "stderr",
     "output_type": "stream",
     "text": [
      "\n"
     ]
    },
    {
     "name": "stdout",
     "output_type": "stream",
     "text": [
      "\n",
      "Requirement already satisfied: numpy>=1.17 in c:\\users\\76640\\appdata\\local\\programs\\python\\python310\\lib\\site-packages (from accelerate==0.18.0) (1.26.2)\n",
      "Requirement already satisfied: packaging>=20.0 in c:\\users\\76640\\appdata\\roaming\\python\\python310\\site-packages (from accelerate==0.18.0) (23.2)\n",
      "Requirement already satisfied: psutil in c:\\users\\76640\\appdata\\roaming\\python\\python310\\site-packages (from accelerate==0.18.0) (5.9.6)\n",
      "Requirement already satisfied: pyyaml in c:\\users\\76640\\appdata\\local\\programs\\python\\python310\\lib\\site-packages (from accelerate==0.18.0) (6.0.1)\n",
      "Requirement already satisfied: torch>=1.4.0 in c:\\users\\76640\\appdata\\local\\programs\\python\\python310\\lib\\site-packages (from accelerate==0.18.0) (2.0.0)\n",
      "Requirement already satisfied: filelock in c:\\users\\76640\\appdata\\local\\programs\\python\\python310\\lib\\site-packages (from torch>=1.4.0->accelerate==0.18.0) (3.13.1)\n",
      "Requirement already satisfied: typing-extensions in c:\\users\\76640\\appdata\\local\\programs\\python\\python310\\lib\\site-packages (from torch>=1.4.0->accelerate==0.18.0) (4.8.0)\n",
      "Requirement already satisfied: sympy in c:\\users\\76640\\appdata\\local\\programs\\python\\python310\\lib\\site-packages (from torch>=1.4.0->accelerate==0.18.0) (1.12)\n",
      "Requirement already satisfied: networkx in c:\\users\\76640\\appdata\\local\\programs\\python\\python310\\lib\\site-packages (from torch>=1.4.0->accelerate==0.18.0) (3.2.1)\n",
      "Requirement already satisfied: jinja2 in c:\\users\\76640\\appdata\\local\\programs\\python\\python310\\lib\\site-packages (from torch>=1.4.0->accelerate==0.18.0) (3.1.2)\n",
      "Requirement already satisfied: MarkupSafe>=2.0 in c:\\users\\76640\\appdata\\local\\programs\\python\\python310\\lib\\site-packages (from jinja2->torch>=1.4.0->accelerate==0.18.0) (2.1.3)\n",
      "Requirement already satisfied: mpmath>=0.19 in c:\\users\\76640\\appdata\\local\\programs\\python\\python310\\lib\\site-packages (from sympy->torch>=1.4.0->accelerate==0.18.0) (1.3.0)\n",
      "Installing collected packages: accelerate\n",
      "  Attempting uninstall: accelerate\n",
      "    Found existing installation: accelerate 0.24.1\n",
      "    Uninstalling accelerate-0.24.1:\n",
      "      Successfully uninstalled accelerate-0.24.1\n",
      "Successfully installed accelerate-0.18.0\n",
      "Requirement already satisfied: appdirs==1.4.4 in c:\\users\\76640\\appdata\\local\\programs\\python\\python310\\lib\\site-packages (1.4.4)\n",
      "Requirement already satisfied: bitsandbytes==0.37.2 in c:\\users\\76640\\appdata\\local\\programs\\python\\python310\\lib\\site-packages (0.37.2)\n",
      "Requirement already satisfied: datasets==2.10.1 in c:\\users\\76640\\appdata\\local\\programs\\python\\python310\\lib\\site-packages (2.10.1)\n",
      "Requirement already satisfied: numpy>=1.17 in c:\\users\\76640\\appdata\\local\\programs\\python\\python310\\lib\\site-packages (from datasets==2.10.1) (1.26.2)\n",
      "Requirement already satisfied: pyarrow>=6.0.0 in c:\\users\\76640\\appdata\\local\\programs\\python\\python310\\lib\\site-packages (from datasets==2.10.1) (14.0.1)\n",
      "Requirement already satisfied: dill<0.3.7,>=0.3.0 in c:\\users\\76640\\appdata\\local\\programs\\python\\python310\\lib\\site-packages (from datasets==2.10.1) (0.3.6)\n",
      "Requirement already satisfied: pandas in c:\\users\\76640\\appdata\\local\\programs\\python\\python310\\lib\\site-packages (from datasets==2.10.1) (2.1.3)\n",
      "Requirement already satisfied: requests>=2.19.0 in c:\\users\\76640\\appdata\\local\\programs\\python\\python310\\lib\\site-packages (from datasets==2.10.1) (2.31.0)\n",
      "Requirement already satisfied: tqdm>=4.62.1 in c:\\users\\76640\\appdata\\local\\programs\\python\\python310\\lib\\site-packages (from datasets==2.10.1) (4.66.1)\n",
      "Requirement already satisfied: xxhash in c:\\users\\76640\\appdata\\local\\programs\\python\\python310\\lib\\site-packages (from datasets==2.10.1) (3.4.1)\n",
      "Requirement already satisfied: multiprocess in c:\\users\\76640\\appdata\\local\\programs\\python\\python310\\lib\\site-packages (from datasets==2.10.1) (0.70.14)\n",
      "Requirement already satisfied: fsspec>=2021.11.1 in c:\\users\\76640\\appdata\\local\\programs\\python\\python310\\lib\\site-packages (from fsspec[http]>=2021.11.1->datasets==2.10.1) (2023.10.0)\n",
      "Requirement already satisfied: aiohttp in c:\\users\\76640\\appdata\\local\\programs\\python\\python310\\lib\\site-packages (from datasets==2.10.1) (3.9.1)\n",
      "Requirement already satisfied: huggingface-hub<1.0.0,>=0.2.0 in c:\\users\\76640\\appdata\\local\\programs\\python\\python310\\lib\\site-packages (from datasets==2.10.1) (0.19.4)\n",
      "Requirement already satisfied: packaging in c:\\users\\76640\\appdata\\roaming\\python\\python310\\site-packages (from datasets==2.10.1) (23.2)\n",
      "Requirement already satisfied: responses<0.19 in c:\\users\\76640\\appdata\\local\\programs\\python\\python310\\lib\\site-packages (from datasets==2.10.1) (0.18.0)\n",
      "Requirement already satisfied: pyyaml>=5.1 in c:\\users\\76640\\appdata\\local\\programs\\python\\python310\\lib\\site-packages (from datasets==2.10.1) (6.0.1)\n",
      "Requirement already satisfied: attrs>=17.3.0 in c:\\users\\76640\\appdata\\local\\programs\\python\\python310\\lib\\site-packages (from aiohttp->datasets==2.10.1) (23.1.0)\n",
      "Requirement already satisfied: multidict<7.0,>=4.5 in c:\\users\\76640\\appdata\\local\\programs\\python\\python310\\lib\\site-packages (from aiohttp->datasets==2.10.1) (6.0.4)\n",
      "Requirement already satisfied: yarl<2.0,>=1.0 in c:\\users\\76640\\appdata\\local\\programs\\python\\python310\\lib\\site-packages (from aiohttp->datasets==2.10.1) (1.9.3)\n",
      "Requirement already satisfied: frozenlist>=1.1.1 in c:\\users\\76640\\appdata\\local\\programs\\python\\python310\\lib\\site-packages (from aiohttp->datasets==2.10.1) (1.4.0)\n",
      "Requirement already satisfied: aiosignal>=1.1.2 in c:\\users\\76640\\appdata\\local\\programs\\python\\python310\\lib\\site-packages (from aiohttp->datasets==2.10.1) (1.3.1)\n",
      "Requirement already satisfied: async-timeout<5.0,>=4.0 in c:\\users\\76640\\appdata\\local\\programs\\python\\python310\\lib\\site-packages (from aiohttp->datasets==2.10.1) (4.0.3)\n",
      "Requirement already satisfied: filelock in c:\\users\\76640\\appdata\\local\\programs\\python\\python310\\lib\\site-packages (from huggingface-hub<1.0.0,>=0.2.0->datasets==2.10.1) (3.13.1)\n",
      "Requirement already satisfied: typing-extensions>=3.7.4.3 in c:\\users\\76640\\appdata\\local\\programs\\python\\python310\\lib\\site-packages (from huggingface-hub<1.0.0,>=0.2.0->datasets==2.10.1) (4.8.0)\n",
      "Requirement already satisfied: charset-normalizer<4,>=2 in c:\\users\\76640\\appdata\\local\\programs\\python\\python310\\lib\\site-packages (from requests>=2.19.0->datasets==2.10.1) (3.3.2)\n",
      "Requirement already satisfied: idna<4,>=2.5 in c:\\users\\76640\\appdata\\local\\programs\\python\\python310\\lib\\site-packages (from requests>=2.19.0->datasets==2.10.1) (3.6)\n",
      "Requirement already satisfied: urllib3<3,>=1.21.1 in c:\\users\\76640\\appdata\\local\\programs\\python\\python310\\lib\\site-packages (from requests>=2.19.0->datasets==2.10.1) (2.1.0)\n",
      "Requirement already satisfied: certifi>=2017.4.17 in c:\\users\\76640\\appdata\\local\\programs\\python\\python310\\lib\\site-packages (from requests>=2.19.0->datasets==2.10.1) (2023.11.17)\n",
      "Requirement already satisfied: colorama in c:\\users\\76640\\appdata\\roaming\\python\\python310\\site-packages (from tqdm>=4.62.1->datasets==2.10.1) (0.4.6)\n",
      "Requirement already satisfied: python-dateutil>=2.8.2 in c:\\users\\76640\\appdata\\roaming\\python\\python310\\site-packages (from pandas->datasets==2.10.1) (2.8.2)\n",
      "Requirement already satisfied: pytz>=2020.1 in c:\\users\\76640\\appdata\\local\\programs\\python\\python310\\lib\\site-packages (from pandas->datasets==2.10.1) (2023.3.post1)\n",
      "Requirement already satisfied: tzdata>=2022.1 in c:\\users\\76640\\appdata\\local\\programs\\python\\python310\\lib\\site-packages (from pandas->datasets==2.10.1) (2023.3)\n",
      "Requirement already satisfied: six>=1.5 in c:\\users\\76640\\appdata\\roaming\\python\\python310\\site-packages (from python-dateutil>=2.8.2->pandas->datasets==2.10.1) (1.16.0)\n",
      "Requirement already satisfied: fire==0.5.0 in c:\\users\\76640\\appdata\\local\\programs\\python\\python310\\lib\\site-packages (0.5.0)\n",
      "Requirement already satisfied: six in c:\\users\\76640\\appdata\\roaming\\python\\python310\\site-packages (from fire==0.5.0) (1.16.0)\n",
      "Requirement already satisfied: termcolor in c:\\users\\76640\\appdata\\local\\programs\\python\\python310\\lib\\site-packages (from fire==0.5.0) (2.3.0)\n",
      "Collecting git+https://github.com/huggingface/peft.git"
     ]
    },
    {
     "name": "stderr",
     "output_type": "stream",
     "text": [
      "  Running command git clone --filter=blob:none --quiet https://github.com/huggingface/peft.git 'C:\\Users\\76640\\AppData\\Local\\Temp\\pip-req-build-ihdb9rbh'"
     ]
    },
    {
     "name": "stdout",
     "output_type": "stream",
     "text": [
      "\n",
      "  Cloning https://github.com/huggingface/peft.git to c:\\users\\76640\\appdata\\local\\temp\\pip-req-build-ihdb9rbh"
     ]
    },
    {
     "name": "stderr",
     "output_type": "stream",
     "text": [
      "\n"
     ]
    },
    {
     "name": "stdout",
     "output_type": "stream",
     "text": [
      "\n",
      "  Resolved https://github.com/huggingface/peft.git to commit b4faffea8ae031e5bd69a76b55418b3650c04c80\n",
      "  Installing build dependencies: started\n",
      "  Installing build dependencies: finished with status 'done'\n",
      "  Getting requirements to build wheel: started\n",
      "  Getting requirements to build wheel: finished with status 'done'\n",
      "  Preparing metadata (pyproject.toml): started\n",
      "  Preparing metadata (pyproject.toml): finished with status 'done'\n",
      "Requirement already satisfied: numpy>=1.17 in c:\\users\\76640\\appdata\\local\\programs\\python\\python310\\lib\\site-packages (from peft==0.6.3.dev0) (1.26.2)\n",
      "Requirement already satisfied: packaging>=20.0 in c:\\users\\76640\\appdata\\roaming\\python\\python310\\site-packages (from peft==0.6.3.dev0) (23.2)\n",
      "Requirement already satisfied: psutil in c:\\users\\76640\\appdata\\roaming\\python\\python310\\site-packages (from peft==0.6.3.dev0) (5.9.6)\n",
      "Requirement already satisfied: pyyaml in c:\\users\\76640\\appdata\\local\\programs\\python\\python310\\lib\\site-packages (from peft==0.6.3.dev0) (6.0.1)\n",
      "Requirement already satisfied: torch>=1.13.0 in c:\\users\\76640\\appdata\\local\\programs\\python\\python310\\lib\\site-packages (from peft==0.6.3.dev0) (2.0.0)\n",
      "Requirement already satisfied: transformers in c:\\users\\76640\\appdata\\local\\programs\\python\\python310\\lib\\site-packages (from peft==0.6.3.dev0) (4.36.0.dev0)\n",
      "Requirement already satisfied: tqdm in c:\\users\\76640\\appdata\\local\\programs\\python\\python310\\lib\\site-packages (from peft==0.6.3.dev0) (4.66.1)\n",
      "Collecting accelerate>=0.21.0 (from peft==0.6.3.dev0)\n",
      "  Using cached accelerate-0.24.1-py3-none-any.whl.metadata (18 kB)\n",
      "Requirement already satisfied: safetensors in c:\\users\\76640\\appdata\\local\\programs\\python\\python310\\lib\\site-packages (from peft==0.6.3.dev0) (0.4.0)\n",
      "Requirement already satisfied: huggingface-hub>=0.17.0 in c:\\users\\76640\\appdata\\local\\programs\\python\\python310\\lib\\site-packages (from peft==0.6.3.dev0) (0.19.4)\n",
      "Requirement already satisfied: filelock in c:\\users\\76640\\appdata\\local\\programs\\python\\python310\\lib\\site-packages (from huggingface-hub>=0.17.0->peft==0.6.3.dev0) (3.13.1)\n",
      "Requirement already satisfied: fsspec>=2023.5.0 in c:\\users\\76640\\appdata\\local\\programs\\python\\python310\\lib\\site-packages (from huggingface-hub>=0.17.0->peft==0.6.3.dev0) (2023.10.0)\n",
      "Requirement already satisfied: requests in c:\\users\\76640\\appdata\\local\\programs\\python\\python310\\lib\\site-packages (from huggingface-hub>=0.17.0->peft==0.6.3.dev0) (2.31.0)\n",
      "Requirement already satisfied: typing-extensions>=3.7.4.3 in c:\\users\\76640\\appdata\\local\\programs\\python\\python310\\lib\\site-packages (from huggingface-hub>=0.17.0->peft==0.6.3.dev0) (4.8.0)\n",
      "Requirement already satisfied: sympy in c:\\users\\76640\\appdata\\local\\programs\\python\\python310\\lib\\site-packages (from torch>=1.13.0->peft==0.6.3.dev0) (1.12)\n",
      "Requirement already satisfied: networkx in c:\\users\\76640\\appdata\\local\\programs\\python\\python310\\lib\\site-packages (from torch>=1.13.0->peft==0.6.3.dev0) (3.2.1)\n",
      "Requirement already satisfied: jinja2 in c:\\users\\76640\\appdata\\local\\programs\\python\\python310\\lib\\site-packages (from torch>=1.13.0->peft==0.6.3.dev0) (3.1.2)\n",
      "Requirement already satisfied: colorama in c:\\users\\76640\\appdata\\roaming\\python\\python310\\site-packages (from tqdm->peft==0.6.3.dev0) (0.4.6)\n",
      "Requirement already satisfied: regex!=2019.12.17 in c:\\users\\76640\\appdata\\local\\programs\\python\\python310\\lib\\site-packages (from transformers->peft==0.6.3.dev0) (2023.10.3)\n",
      "Requirement already satisfied: tokenizers<0.19,>=0.14 in c:\\users\\76640\\appdata\\local\\programs\\python\\python310\\lib\\site-packages (from transformers->peft==0.6.3.dev0) (0.15.0)\n",
      "Requirement already satisfied: MarkupSafe>=2.0 in c:\\users\\76640\\appdata\\local\\programs\\python\\python310\\lib\\site-packages (from jinja2->torch>=1.13.0->peft==0.6.3.dev0) (2.1.3)\n",
      "Requirement already satisfied: charset-normalizer<4,>=2 in c:\\users\\76640\\appdata\\local\\programs\\python\\python310\\lib\\site-packages (from requests->huggingface-hub>=0.17.0->peft==0.6.3.dev0) (3.3.2)\n",
      "Requirement already satisfied: idna<4,>=2.5 in c:\\users\\76640\\appdata\\local\\programs\\python\\python310\\lib\\site-packages (from requests->huggingface-hub>=0.17.0->peft==0.6.3.dev0) (3.6)\n",
      "Requirement already satisfied: urllib3<3,>=1.21.1 in c:\\users\\76640\\appdata\\local\\programs\\python\\python310\\lib\\site-packages (from requests->huggingface-hub>=0.17.0->peft==0.6.3.dev0) (2.1.0)\n",
      "Requirement already satisfied: certifi>=2017.4.17 in c:\\users\\76640\\appdata\\local\\programs\\python\\python310\\lib\\site-packages (from requests->huggingface-hub>=0.17.0->peft==0.6.3.dev0) (2023.11.17)\n",
      "Requirement already satisfied: mpmath>=0.19 in c:\\users\\76640\\appdata\\local\\programs\\python\\python310\\lib\\site-packages (from sympy->torch>=1.13.0->peft==0.6.3.dev0) (1.3.0)\n",
      "Using cached accelerate-0.24.1-py3-none-any.whl (261 kB)\n",
      "Installing collected packages: accelerate\n",
      "  Attempting uninstall: accelerate\n",
      "    Found existing installation: accelerate 0.18.0\n",
      "    Uninstalling accelerate-0.18.0:\n",
      "      Successfully uninstalled accelerate-0.18.0\n",
      "Successfully installed accelerate-0.24.1\n"
     ]
    },
    {
     "name": "stderr",
     "output_type": "stream",
     "text": [
      "  Running command git clone --filter=blob:none --quiet https://github.com/huggingface/transformers.git 'C:\\Users\\76640\\AppData\\Local\\Temp\\pip-req-build-m78mw9qg'\n"
     ]
    },
    {
     "name": "stdout",
     "output_type": "stream",
     "text": [
      "Collecting git+https://github.com/huggingface/transformers.git\n",
      "  Cloning https://github.com/huggingface/transformers.git to c:\\users\\76640\\appdata\\local\\temp\\pip-req-build-m78mw9qg\n",
      "  Resolved https://github.com/huggingface/transformers.git to commit f70db28322150dd986298cc1d1be8bc144cc1a88\n",
      "  Installing build dependencies: started\n",
      "  Installing build dependencies: finished with status 'done'\n",
      "  Getting requirements to build wheel: started\n",
      "  Getting requirements to build wheel: finished with status 'done'\n",
      "  Preparing metadata (pyproject.toml): started\n",
      "  Preparing metadata (pyproject.toml): finished with status 'done'\n",
      "Requirement already satisfied: filelock in c:\\users\\76640\\appdata\\local\\programs\\python\\python310\\lib\\site-packages (from transformers==4.36.0.dev0) (3.13.1)\n",
      "Requirement already satisfied: huggingface-hub<1.0,>=0.19.3 in c:\\users\\76640\\appdata\\local\\programs\\python\\python310\\lib\\site-packages (from transformers==4.36.0.dev0) (0.19.4)\n",
      "Requirement already satisfied: numpy>=1.17 in c:\\users\\76640\\appdata\\local\\programs\\python\\python310\\lib\\site-packages (from transformers==4.36.0.dev0) (1.26.2)\n",
      "Requirement already satisfied: packaging>=20.0 in c:\\users\\76640\\appdata\\roaming\\python\\python310\\site-packages (from transformers==4.36.0.dev0) (23.2)\n",
      "Requirement already satisfied: pyyaml>=5.1 in c:\\users\\76640\\appdata\\local\\programs\\python\\python310\\lib\\site-packages (from transformers==4.36.0.dev0) (6.0.1)\n",
      "Requirement already satisfied: regex!=2019.12.17 in c:\\users\\76640\\appdata\\local\\programs\\python\\python310\\lib\\site-packages (from transformers==4.36.0.dev0) (2023.10.3)\n",
      "Requirement already satisfied: requests in c:\\users\\76640\\appdata\\local\\programs\\python\\python310\\lib\\site-packages (from transformers==4.36.0.dev0) (2.31.0)\n",
      "Requirement already satisfied: tokenizers<0.19,>=0.14 in c:\\users\\76640\\appdata\\local\\programs\\python\\python310\\lib\\site-packages (from transformers==4.36.0.dev0) (0.15.0)\n",
      "Requirement already satisfied: safetensors>=0.3.1 in c:\\users\\76640\\appdata\\local\\programs\\python\\python310\\lib\\site-packages (from transformers==4.36.0.dev0) (0.4.0)\n",
      "Requirement already satisfied: tqdm>=4.27 in c:\\users\\76640\\appdata\\local\\programs\\python\\python310\\lib\\site-packages (from transformers==4.36.0.dev0) (4.66.1)\n",
      "Requirement already satisfied: fsspec>=2023.5.0 in c:\\users\\76640\\appdata\\local\\programs\\python\\python310\\lib\\site-packages (from huggingface-hub<1.0,>=0.19.3->transformers==4.36.0.dev0) (2023.10.0)\n",
      "Requirement already satisfied: typing-extensions>=3.7.4.3 in c:\\users\\76640\\appdata\\local\\programs\\python\\python310\\lib\\site-packages (from huggingface-hub<1.0,>=0.19.3->transformers==4.36.0.dev0) (4.8.0)\n",
      "Requirement already satisfied: colorama in c:\\users\\76640\\appdata\\roaming\\python\\python310\\site-packages (from tqdm>=4.27->transformers==4.36.0.dev0) (0.4.6)\n",
      "Requirement already satisfied: charset-normalizer<4,>=2 in c:\\users\\76640\\appdata\\local\\programs\\python\\python310\\lib\\site-packages (from requests->transformers==4.36.0.dev0) (3.3.2)\n",
      "Requirement already satisfied: idna<4,>=2.5 in c:\\users\\76640\\appdata\\local\\programs\\python\\python310\\lib\\site-packages (from requests->transformers==4.36.0.dev0) (3.6)\n",
      "Requirement already satisfied: urllib3<3,>=1.21.1 in c:\\users\\76640\\appdata\\local\\programs\\python\\python310\\lib\\site-packages (from requests->transformers==4.36.0.dev0) (2.1.0)\n",
      "Requirement already satisfied: certifi>=2017.4.17 in c:\\users\\76640\\appdata\\local\\programs\\python\\python310\\lib\\site-packages (from requests->transformers==4.36.0.dev0) (2023.11.17)\n",
      "Requirement already satisfied: torch==2.0.0 in c:\\users\\76640\\appdata\\local\\programs\\python\\python310\\lib\\site-packages (2.0.0)\n",
      "Requirement already satisfied: filelock in c:\\users\\76640\\appdata\\local\\programs\\python\\python310\\lib\\site-packages (from torch==2.0.0) (3.13.1)\n",
      "Requirement already satisfied: typing-extensions in c:\\users\\76640\\appdata\\local\\programs\\python\\python310\\lib\\site-packages (from torch==2.0.0) (4.8.0)\n",
      "Requirement already satisfied: sympy in c:\\users\\76640\\appdata\\local\\programs\\python\\python310\\lib\\site-packages (from torch==2.0.0) (1.12)\n",
      "Requirement already satisfied: networkx in c:\\users\\76640\\appdata\\local\\programs\\python\\python310\\lib\\site-packages (from torch==2.0.0) (3.2.1)\n",
      "Requirement already satisfied: jinja2 in c:\\users\\76640\\appdata\\local\\programs\\python\\python310\\lib\\site-packages (from torch==2.0.0) (3.1.2)\n",
      "Requirement already satisfied: MarkupSafe>=2.0 in c:\\users\\76640\\appdata\\local\\programs\\python\\python310\\lib\\site-packages (from jinja2->torch==2.0.0) (2.1.3)\n",
      "Requirement already satisfied: mpmath>=0.19 in c:\\users\\76640\\appdata\\local\\programs\\python\\python310\\lib\\site-packages (from sympy->torch==2.0.0) (1.3.0)\n",
      "Requirement already satisfied: sentencepiece==0.1.97 in c:\\users\\76640\\appdata\\local\\programs\\python\\python310\\lib\\site-packages (0.1.97)\n",
      "Requirement already satisfied: tensorboardX==2.6 in c:\\users\\76640\\appdata\\local\\programs\\python\\python310\\lib\\site-packages (2.6)\n",
      "Requirement already satisfied: numpy in c:\\users\\76640\\appdata\\local\\programs\\python\\python310\\lib\\site-packages (from tensorboardX==2.6) (1.26.2)\n",
      "Requirement already satisfied: packaging in c:\\users\\76640\\appdata\\roaming\\python\\python310\\site-packages (from tensorboardX==2.6) (23.2)\n",
      "Requirement already satisfied: protobuf<4,>=3.8.0 in c:\\users\\76640\\appdata\\local\\programs\\python\\python310\\lib\\site-packages (from tensorboardX==2.6) (3.20.3)\n",
      "Requirement already satisfied: gradio==3.23.0 in c:\\users\\76640\\appdata\\local\\programs\\python\\python310\\lib\\site-packages (3.23.0)\n",
      "Requirement already satisfied: aiofiles in c:\\users\\76640\\appdata\\local\\programs\\python\\python310\\lib\\site-packages (from gradio==3.23.0) (23.2.1)\n",
      "Requirement already satisfied: aiohttp in c:\\users\\76640\\appdata\\local\\programs\\python\\python310\\lib\\site-packages (from gradio==3.23.0) (3.9.1)\n",
      "Requirement already satisfied: altair>=4.2.0 in c:\\users\\76640\\appdata\\local\\programs\\python\\python310\\lib\\site-packages (from gradio==3.23.0) (5.1.2)\n",
      "Requirement already satisfied: fastapi in c:\\users\\76640\\appdata\\local\\programs\\python\\python310\\lib\\site-packages (from gradio==3.23.0) (0.104.1)\n",
      "Requirement already satisfied: ffmpy in c:\\users\\76640\\appdata\\local\\programs\\python\\python310\\lib\\site-packages (from gradio==3.23.0) (0.3.1)\n",
      "Requirement already satisfied: fsspec in c:\\users\\76640\\appdata\\local\\programs\\python\\python310\\lib\\site-packages (from gradio==3.23.0) (2023.10.0)\n",
      "Requirement already satisfied: httpx in c:\\users\\76640\\appdata\\local\\programs\\python\\python310\\lib\\site-packages (from gradio==3.23.0) (0.25.2)\n",
      "Requirement already satisfied: huggingface-hub in c:\\users\\76640\\appdata\\local\\programs\\python\\python310\\lib\\site-packages (from gradio==3.23.0) (0.19.4)\n",
      "Requirement already satisfied: jinja2 in c:\\users\\76640\\appdata\\local\\programs\\python\\python310\\lib\\site-packages (from gradio==3.23.0) (3.1.2)\n",
      "Requirement already satisfied: markdown-it-py>=2.0.0 in c:\\users\\76640\\appdata\\local\\programs\\python\\python310\\lib\\site-packages (from markdown-it-py[linkify]>=2.0.0->gradio==3.23.0) (2.2.0)\n",
      "Requirement already satisfied: markupsafe in c:\\users\\76640\\appdata\\local\\programs\\python\\python310\\lib\\site-packages (from gradio==3.23.0) (2.1.3)\n",
      "Requirement already satisfied: matplotlib in c:\\users\\76640\\appdata\\local\\programs\\python\\python310\\lib\\site-packages (from gradio==3.23.0) (3.8.2)\n",
      "Requirement already satisfied: mdit-py-plugins<=0.3.3 in c:\\users\\76640\\appdata\\local\\programs\\python\\python310\\lib\\site-packages (from gradio==3.23.0) (0.3.3)\n",
      "Requirement already satisfied: numpy in c:\\users\\76640\\appdata\\local\\programs\\python\\python310\\lib\\site-packages (from gradio==3.23.0) (1.26.2)\n",
      "Requirement already satisfied: orjson in c:\\users\\76640\\appdata\\local\\programs\\python\\python310\\lib\\site-packages (from gradio==3.23.0) (3.9.10)\n",
      "Requirement already satisfied: pandas in c:\\users\\76640\\appdata\\local\\programs\\python\\python310\\lib\\site-packages (from gradio==3.23.0) (2.1.3)\n",
      "Requirement already satisfied: pillow in c:\\users\\76640\\appdata\\local\\programs\\python\\python310\\lib\\site-packages (from gradio==3.23.0) (10.1.0)\n",
      "Requirement already satisfied: pydantic in c:\\users\\76640\\appdata\\local\\programs\\python\\python310\\lib\\site-packages (from gradio==3.23.0) (2.5.2)\n",
      "Requirement already satisfied: pydub in c:\\users\\76640\\appdata\\local\\programs\\python\\python310\\lib\\site-packages (from gradio==3.23.0) (0.25.1)\n",
      "Requirement already satisfied: python-multipart in c:\\users\\76640\\appdata\\local\\programs\\python\\python310\\lib\\site-packages (from gradio==3.23.0) (0.0.6)\n",
      "Requirement already satisfied: pyyaml in c:\\users\\76640\\appdata\\local\\programs\\python\\python310\\lib\\site-packages (from gradio==3.23.0) (6.0.1)\n",
      "Requirement already satisfied: requests in c:\\users\\76640\\appdata\\local\\programs\\python\\python310\\lib\\site-packages (from gradio==3.23.0) (2.31.0)\n",
      "Requirement already satisfied: semantic-version in c:\\users\\76640\\appdata\\local\\programs\\python\\python310\\lib\\site-packages (from gradio==3.23.0) (2.10.0)\n",
      "Requirement already satisfied: typing-extensions in c:\\users\\76640\\appdata\\local\\programs\\python\\python310\\lib\\site-packages (from gradio==3.23.0) (4.8.0)\n",
      "Requirement already satisfied: uvicorn in c:\\users\\76640\\appdata\\local\\programs\\python\\python310\\lib\\site-packages (from gradio==3.23.0) (0.24.0.post1)\n",
      "Requirement already satisfied: websockets>=10.0 in c:\\users\\76640\\appdata\\local\\programs\\python\\python310\\lib\\site-packages (from gradio==3.23.0) (12.0)\n",
      "Requirement already satisfied: jsonschema>=3.0 in c:\\users\\76640\\appdata\\local\\programs\\python\\python310\\lib\\site-packages (from altair>=4.2.0->gradio==3.23.0) (4.20.0)\n",
      "Requirement already satisfied: packaging in c:\\users\\76640\\appdata\\roaming\\python\\python310\\site-packages (from altair>=4.2.0->gradio==3.23.0) (23.2)\n",
      "Requirement already satisfied: toolz in c:\\users\\76640\\appdata\\local\\programs\\python\\python310\\lib\\site-packages (from altair>=4.2.0->gradio==3.23.0) (0.12.0)\n",
      "Requirement already satisfied: filelock in c:\\users\\76640\\appdata\\local\\programs\\python\\python310\\lib\\site-packages (from huggingface-hub->gradio==3.23.0) (3.13.1)\n",
      "Requirement already satisfied: tqdm>=4.42.1 in c:\\users\\76640\\appdata\\local\\programs\\python\\python310\\lib\\site-packages (from huggingface-hub->gradio==3.23.0) (4.66.1)\n",
      "Requirement already satisfied: mdurl~=0.1 in c:\\users\\76640\\appdata\\local\\programs\\python\\python310\\lib\\site-packages (from markdown-it-py>=2.0.0->markdown-it-py[linkify]>=2.0.0->gradio==3.23.0) (0.1.2)\n",
      "Requirement already satisfied: linkify-it-py<3,>=1 in c:\\users\\76640\\appdata\\local\\programs\\python\\python310\\lib\\site-packages (from markdown-it-py[linkify]>=2.0.0->gradio==3.23.0) (2.0.2)\n",
      "Requirement already satisfied: python-dateutil>=2.8.2 in c:\\users\\76640\\appdata\\roaming\\python\\python310\\site-packages (from pandas->gradio==3.23.0) (2.8.2)\n",
      "Requirement already satisfied: pytz>=2020.1 in c:\\users\\76640\\appdata\\local\\programs\\python\\python310\\lib\\site-packages (from pandas->gradio==3.23.0) (2023.3.post1)\n",
      "Requirement already satisfied: tzdata>=2022.1 in c:\\users\\76640\\appdata\\local\\programs\\python\\python310\\lib\\site-packages (from pandas->gradio==3.23.0) (2023.3)\n",
      "Requirement already satisfied: attrs>=17.3.0 in c:\\users\\76640\\appdata\\local\\programs\\python\\python310\\lib\\site-packages (from aiohttp->gradio==3.23.0) (23.1.0)\n",
      "Requirement already satisfied: multidict<7.0,>=4.5 in c:\\users\\76640\\appdata\\local\\programs\\python\\python310\\lib\\site-packages (from aiohttp->gradio==3.23.0) (6.0.4)\n",
      "Requirement already satisfied: yarl<2.0,>=1.0 in c:\\users\\76640\\appdata\\local\\programs\\python\\python310\\lib\\site-packages (from aiohttp->gradio==3.23.0) (1.9.3)\n",
      "Requirement already satisfied: frozenlist>=1.1.1 in c:\\users\\76640\\appdata\\local\\programs\\python\\python310\\lib\\site-packages (from aiohttp->gradio==3.23.0) (1.4.0)\n",
      "Requirement already satisfied: aiosignal>=1.1.2 in c:\\users\\76640\\appdata\\local\\programs\\python\\python310\\lib\\site-packages (from aiohttp->gradio==3.23.0) (1.3.1)\n",
      "Requirement already satisfied: async-timeout<5.0,>=4.0 in c:\\users\\76640\\appdata\\local\\programs\\python\\python310\\lib\\site-packages (from aiohttp->gradio==3.23.0) (4.0.3)\n",
      "Requirement already satisfied: anyio<4.0.0,>=3.7.1 in c:\\users\\76640\\appdata\\local\\programs\\python\\python310\\lib\\site-packages (from fastapi->gradio==3.23.0) (3.7.1)\n",
      "Requirement already satisfied: starlette<0.28.0,>=0.27.0 in c:\\users\\76640\\appdata\\local\\programs\\python\\python310\\lib\\site-packages (from fastapi->gradio==3.23.0) (0.27.0)\n",
      "Requirement already satisfied: annotated-types>=0.4.0 in c:\\users\\76640\\appdata\\local\\programs\\python\\python310\\lib\\site-packages (from pydantic->gradio==3.23.0) (0.6.0)\n",
      "Requirement already satisfied: pydantic-core==2.14.5 in c:\\users\\76640\\appdata\\local\\programs\\python\\python310\\lib\\site-packages (from pydantic->gradio==3.23.0) (2.14.5)\n",
      "Requirement already satisfied: certifi in c:\\users\\76640\\appdata\\local\\programs\\python\\python310\\lib\\site-packages (from httpx->gradio==3.23.0) (2023.11.17)\n",
      "Requirement already satisfied: httpcore==1.* in c:\\users\\76640\\appdata\\local\\programs\\python\\python310\\lib\\site-packages (from httpx->gradio==3.23.0) (1.0.2)\n",
      "Requirement already satisfied: idna in c:\\users\\76640\\appdata\\local\\programs\\python\\python310\\lib\\site-packages (from httpx->gradio==3.23.0) (3.6)\n",
      "Requirement already satisfied: sniffio in c:\\users\\76640\\appdata\\local\\programs\\python\\python310\\lib\\site-packages (from httpx->gradio==3.23.0) (1.3.0)\n",
      "Requirement already satisfied: h11<0.15,>=0.13 in c:\\users\\76640\\appdata\\local\\programs\\python\\python310\\lib\\site-packages (from httpcore==1.*->httpx->gradio==3.23.0) (0.14.0)\n",
      "Requirement already satisfied: contourpy>=1.0.1 in c:\\users\\76640\\appdata\\local\\programs\\python\\python310\\lib\\site-packages (from matplotlib->gradio==3.23.0) (1.2.0)\n",
      "Requirement already satisfied: cycler>=0.10 in c:\\users\\76640\\appdata\\local\\programs\\python\\python310\\lib\\site-packages (from matplotlib->gradio==3.23.0) (0.12.1)\n",
      "Requirement already satisfied: fonttools>=4.22.0 in c:\\users\\76640\\appdata\\local\\programs\\python\\python310\\lib\\site-packages (from matplotlib->gradio==3.23.0) (4.45.1)"
     ]
    },
    {
     "name": "stdout",
     "output_type": "stream",
     "text": [
      "\n",
      "Requirement already satisfied: kiwisolver>=1.3.1 in c:\\users\\76640\\appdata\\local\\programs\\python\\python310\\lib\\site-packages (from matplotlib->gradio==3.23.0) (1.4.5)\n",
      "Requirement already satisfied: pyparsing>=2.3.1 in c:\\users\\76640\\appdata\\local\\programs\\python\\python310\\lib\\site-packages (from matplotlib->gradio==3.23.0) (3.1.1)\n",
      "Requirement already satisfied: charset-normalizer<4,>=2 in c:\\users\\76640\\appdata\\local\\programs\\python\\python310\\lib\\site-packages (from requests->gradio==3.23.0) (3.3.2)\n",
      "Requirement already satisfied: urllib3<3,>=1.21.1 in c:\\users\\76640\\appdata\\local\\programs\\python\\python310\\lib\\site-packages (from requests->gradio==3.23.0) (2.1.0)\n",
      "Requirement already satisfied: click>=7.0 in c:\\users\\76640\\appdata\\local\\programs\\python\\python310\\lib\\site-packages (from uvicorn->gradio==3.23.0) (8.1.7)\n",
      "Requirement already satisfied: exceptiongroup in c:\\users\\76640\\appdata\\roaming\\python\\python310\\site-packages (from anyio<4.0.0,>=3.7.1->fastapi->gradio==3.23.0) (1.2.0)\n",
      "Requirement already satisfied: colorama in c:\\users\\76640\\appdata\\roaming\\python\\python310\\site-packages (from click>=7.0->uvicorn->gradio==3.23.0) (0.4.6)\n",
      "Requirement already satisfied: jsonschema-specifications>=2023.03.6 in c:\\users\\76640\\appdata\\local\\programs\\python\\python310\\lib\\site-packages (from jsonschema>=3.0->altair>=4.2.0->gradio==3.23.0) (2023.11.1)\n",
      "Requirement already satisfied: referencing>=0.28.4 in c:\\users\\76640\\appdata\\local\\programs\\python\\python310\\lib\\site-packages (from jsonschema>=3.0->altair>=4.2.0->gradio==3.23.0) (0.31.0)\n",
      "Requirement already satisfied: rpds-py>=0.7.1 in c:\\users\\76640\\appdata\\local\\programs\\python\\python310\\lib\\site-packages (from jsonschema>=3.0->altair>=4.2.0->gradio==3.23.0) (0.13.1)\n",
      "Requirement already satisfied: uc-micro-py in c:\\users\\76640\\appdata\\local\\programs\\python\\python310\\lib\\site-packages (from linkify-it-py<3,>=1->markdown-it-py[linkify]>=2.0.0->gradio==3.23.0) (1.0.2)\n",
      "Requirement already satisfied: six>=1.5 in c:\\users\\76640\\appdata\\roaming\\python\\python310\\site-packages (from python-dateutil>=2.8.2->pandas->gradio==3.23.0) (1.16.0)\n"
     ]
    }
   ],
   "source": [
    "!pip install -U pip\n",
    "!pip install accelerate==0.18.0\n",
    "!pip install appdirs==1.4.4\n",
    "!pip install bitsandbytes==0.37.2\n",
    "!pip install datasets==2.10.1\n",
    "!pip install fire==0.5.0\n",
    "!pip install git+https://github.com/huggingface/peft.git\n",
    "!pip install git+https://github.com/huggingface/transformers.git\n",
    "!pip install torch==2.0.0\n",
    "!pip install sentencepiece==0.1.97\n",
    "!pip install tensorboardX==2.6\n",
    "!pip install gradio==3.23.0"
   ]
  },
  {
   "cell_type": "code",
   "execution_count": 7,
   "metadata": {},
   "outputs": [
    {
     "data": {
      "text/plain": [
       "False"
      ]
     },
     "execution_count": 7,
     "metadata": {},
     "output_type": "execute_result"
    }
   ],
   "source": [
    "import torch\n",
    "\n",
    "torch.cuda.is_available() "
   ]
  },
  {
   "cell_type": "code",
   "execution_count": 6,
   "metadata": {},
   "outputs": [
    {
     "data": {
      "text/plain": [
       "'cpu'"
      ]
     },
     "execution_count": 6,
     "metadata": {},
     "output_type": "execute_result"
    }
   ],
   "source": [
    "import transformers\n",
    "import textwrap\n",
    "from transformers import LlamaTokenizer, LlamaForCausalLM\n",
    "import os\n",
    "import sys\n",
    "from typing import List\n",
    " \n",
    "from peft import (\n",
    "    LoraConfig,\n",
    "    get_peft_model,\n",
    "    get_peft_model_state_dict,\n",
    "    prepare_model_for_int8_training,\n",
    ")\n",
    " \n",
    "import fire\n",
    "import torch\n",
    "from datasets import load_dataset\n",
    "import pandas as pd\n",
    " \n",
    "import matplotlib.pyplot as plt\n",
    "import matplotlib as mpl\n",
    "import seaborn as sns\n",
    "from pylab import rcParams\n",
    " \n",
    "%matplotlib inline\n",
    "sns.set(rc={'figure.figsize':(10, 7)})\n",
    "sns.set(rc={'figure.dpi':100})\n",
    "sns.set(style='white', palette='muted', font_scale=1.2)\n",
    " \n",
    "DEVICE = \"cuda\" if torch.cuda.is_available() else \"cpu\"\n",
    "DEVICE"
   ]
  },
  {
   "cell_type": "code",
   "execution_count": null,
   "metadata": {},
   "outputs": [],
   "source": [
    "from datasets import load_dataset"
   ]
  },
  {
   "cell_type": "code",
   "execution_count": null,
   "metadata": {},
   "outputs": [],
   "source": [
    "import pandas as pd\n",
    "import matplotlib\n",
    "import json"
   ]
  },
  {
   "cell_type": "code",
   "execution_count": null,
   "metadata": {},
   "outputs": [],
   "source": [
    "BASE_MODEL = \"decapoda-research/llama-7b-hf\"\n",
    " \n",
    "model = LlamaForCausalLM.from_pretrained(\n",
    "    BASE_MODEL,\n",
    "    load_in_8bit=True,\n",
    "    torch_dtype=torch.float16,\n",
    "    device_map=\"auto\",\n",
    ")\n",
    " \n",
    "tokenizer = LlamaTokenizer.from_pretrained(BASE_MODEL)\n",
    " \n",
    "tokenizer.pad_token_id = (\n",
    "    0  # unk. we want this to be different from the eos token\n",
    ")\n",
    "tokenizer.padding_side = \"left\""
   ]
  },
  {
   "cell_type": "code",
   "execution_count": null,
   "metadata": {},
   "outputs": [],
   "source": [
    "data = load_dataset(\"json\", data_files=\"dataset\")\n",
    "data[\"train\"]\n",
    "Dataset({\n",
    "    features: ['instruction', 'input', 'output'],\n",
    "    num_rows: 27481\n",
    "})"
   ]
  },
  {
   "cell_type": "code",
   "execution_count": null,
   "metadata": {},
   "outputs": [],
   "source": [
    "def generate_prompt(data_point):\n",
    "    return f\"\"\"Below is an instruction that describes a task, paired with an input that provides further context. Write a response that appropriately completes the request.  # noqa: E501\n",
    "### Instruction:\n",
    "{data_point[\"instruction\"]}\n",
    "### Input:\n",
    "{data_point[\"input\"]}\n",
    "### Response:\n",
    "{data_point[\"output\"]}\"\"\"\n",
    " \n",
    " \n",
    "def tokenize(prompt, add_eos_token=True):\n",
    "    result = tokenizer(\n",
    "        prompt,\n",
    "        truncation=True,\n",
    "        max_length=CUTOFF_LEN,\n",
    "        padding=False,\n",
    "        return_tensors=None,\n",
    "    )\n",
    "    if (\n",
    "        result[\"input_ids\"][-1] != tokenizer.eos_token_id\n",
    "        and len(result[\"input_ids\"]) < CUTOFF_LEN\n",
    "        and add_eos_token\n",
    "    ):\n",
    "        result[\"input_ids\"].append(tokenizer.eos_token_id)\n",
    "        result[\"attention_mask\"].append(1)\n",
    " \n",
    "    result[\"labels\"] = result[\"input_ids\"].copy()\n",
    " \n",
    "    return result\n",
    " \n",
    "def generate_and_tokenize_prompt(data_point):\n",
    "    full_prompt = generate_prompt(data_point)\n",
    "    tokenized_full_prompt = tokenize(full_prompt)\n",
    "    return tokenized_full_prompt"
   ]
  },
  {
   "cell_type": "code",
   "execution_count": null,
   "metadata": {},
   "outputs": [],
   "source": [
    "train_val = data[\"train\"].train_test_split(\n",
    "    test_size=200, shuffle=True, seed=42\n",
    ")\n",
    "train_data = (\n",
    "    train_val[\"train\"].map(generate_and_tokenize_prompt)\n",
    ")\n",
    "val_data = (\n",
    "    train_val[\"test\"].map(generate_and_tokenize_prompt)\n",
    ")"
   ]
  },
  {
   "cell_type": "code",
   "execution_count": null,
   "metadata": {},
   "outputs": [],
   "source": [
    "LORA_R = 8\n",
    "LORA_ALPHA = 16\n",
    "LORA_DROPOUT= 0.05\n",
    "LORA_TARGET_MODULES = [\n",
    "    \"q_proj\",\n",
    "    \"v_proj\",\n",
    "]\n",
    " \n",
    "BATCH_SIZE = 128\n",
    "MICRO_BATCH_SIZE = 4\n",
    "GRADIENT_ACCUMULATION_STEPS = BATCH_SIZE // MICRO_BATCH_SIZE\n",
    "LEARNING_RATE = 3e-4\n",
    "TRAIN_STEPS = 300\n",
    "OUTPUT_DIR = \"experiments\""
   ]
  },
  {
   "cell_type": "code",
   "execution_count": null,
   "metadata": {},
   "outputs": [],
   "source": [
    "model = prepare_model_for_int8_training(model)\n",
    "config = LoraConfig(\n",
    "    r=LORA_R,\n",
    "    lora_alpha=LORA_ALPHA,\n",
    "    target_modules=LORA_TARGET_MODULES,\n",
    "    lora_dropout=LORA_DROPOUT,\n",
    "    bias=\"none\",\n",
    "    task_type=\"CAUSAL_LM\",\n",
    ")\n",
    "model = get_peft_model(model, config)\n",
    "model.print_trainable_parameters()"
   ]
  },
  {
   "cell_type": "code",
   "execution_count": null,
   "metadata": {},
   "outputs": [],
   "source": [
    "training_arguments = transformers.TrainingArguments(\n",
    "    per_device_train_batch_size=MICRO_BATCH_SIZE,\n",
    "    gradient_accumulation_steps=GRADIENT_ACCUMULATION_STEPS,\n",
    "    warmup_steps=100,\n",
    "    max_steps=TRAIN_STEPS,\n",
    "    learning_rate=LEARNING_RATE,\n",
    "    fp16=True,\n",
    "    logging_steps=10,\n",
    "    optim=\"adamw_torch\",\n",
    "    evaluation_strategy=\"steps\",\n",
    "    save_strategy=\"steps\",\n",
    "    eval_steps=50,\n",
    "    save_steps=50,\n",
    "    output_dir=OUTPUT_DIR,\n",
    "    save_total_limit=3,\n",
    "    load_best_model_at_end=True,\n",
    "    report_to=\"tensorboard\"\n",
    ")"
   ]
  },
  {
   "cell_type": "code",
   "execution_count": null,
   "metadata": {},
   "outputs": [],
   "source": [
    "data_collator = transformers.DataCollatorForSeq2Seq(\n",
    "    tokenizer, pad_to_multiple_of=8, return_tensors=\"pt\", padding=True\n",
    ")"
   ]
  },
  {
   "cell_type": "code",
   "execution_count": null,
   "metadata": {},
   "outputs": [],
   "source": [
    "trainer = transformers.Trainer(\n",
    "    model=model,\n",
    "    train_dataset=train_data,\n",
    "    eval_dataset=val_data,\n",
    "    args=training_arguments,\n",
    "    data_collator=data_collator\n",
    ")\n",
    "model.config.use_cache = False\n",
    "old_state_dict = model.state_dict\n",
    "model.state_dict = (\n",
    "    lambda self, *_, **__: get_peft_model_state_dict(\n",
    "        self, old_state_dict()\n",
    "    )\n",
    ").__get__(model, type(model))\n",
    " \n",
    "model = torch.compile(model)\n",
    " \n",
    "trainer.train()\n",
    "model.save_pretrained(OUTPUT_DIR)"
   ]
  }
 ],
 "metadata": {
  "kernelspec": {
   "display_name": "Python 3",
   "language": "python",
   "name": "python3"
  },
  "language_info": {
   "codemirror_mode": {
    "name": "ipython",
    "version": 3
   },
   "file_extension": ".py",
   "mimetype": "text/x-python",
   "name": "python",
   "nbconvert_exporter": "python",
   "pygments_lexer": "ipython3",
   "version": "3.10.9"
  }
 },
 "nbformat": 4,
 "nbformat_minor": 2
}
